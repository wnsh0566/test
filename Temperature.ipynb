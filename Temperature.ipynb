{
 "cells": [
  {
   "cell_type": "code",
   "execution_count": 3,
   "metadata": {},
   "outputs": [
    {
     "name": "stdout",
     "output_type": "stream",
     "text": [
      "[0.0, 32.0]\n",
      "[10.0, 50.0]\n",
      "[20.0, 68.0]\n",
      "[30.0, 86.0]\n",
      "[40.0, 104.0]\n",
      "[50.0, 122.0]\n",
      "[60.0, 140.0]\n",
      "[70.0, 158.0]\n",
      "[80.0, 176.0]\n",
      "[90.0, 194.0]\n",
      "[100.0, 212.0]\n"
     ]
    }
   ],
   "source": [
    "cel_list = [0,10,20,30,40,50,60,70,80,90,100]\n",
    "fah_list = []\n",
    "\n",
    "for i in range(0,11):\n",
    "    cel_list[i] = float(cel_list[i])\n",
    "    fah = cel_list[i]*1.8+32\n",
    "    fah_list.append(fah)\n",
    "for j in range(0,11):\n",
    "    a = [cel_list[j],fah_list[j]]\n",
    "    print(a)"
   ]
  },
  {
   "cell_type": "code",
   "execution_count": null,
   "metadata": {},
   "outputs": [],
   "source": []
  }
 ],
 "metadata": {
  "kernelspec": {
   "display_name": "Python 3",
   "language": "python",
   "name": "python3"
  }
 },
 "nbformat": 4,
 "nbformat_minor": 2
}
