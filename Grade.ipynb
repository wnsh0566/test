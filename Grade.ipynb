{
 "cells": [
  {
   "cell_type": "code",
   "execution_count": null,
   "metadata": {},
   "outputs": [
    {
     "name": "stdout",
     "output_type": "stream",
     "text": [
      "A\n",
      "[4.0]\n",
      "1.0\n",
      "B\n",
      "[4.0, 3.0]\n",
      "4.0\n",
      "C\n",
      "[4.0, 3.0, 2.0]\n",
      "10.0\n",
      "D\n",
      "[4.0, 3.0, 2.0, 1.0]\n",
      "20.0\n"
     ]
    }
   ],
   "source": [
    "grade = 0.0\n",
    "grade_list = []\n",
    "sum = 0.0\n",
    "average = 0.0\n",
    "while True:\n",
    "    word = str(input())\n",
    "    \n",
    "    if word is \"\":\n",
    "        break\n",
    "    elif word is \"A+\":\n",
    "        grade = 4.0\n",
    "        grade_list.append(grade)\n",
    "    elif word is \"A\":\n",
    "        grade = 4.0\n",
    "        grade_list.append(grade)\n",
    "    elif word is \"A-\":\n",
    "        grade = 3.7\n",
    "        grade_list.append(grade)\n",
    "    elif word is \"B+\":\n",
    "        grade = 3.3\n",
    "        grade_list.append(grade)\n",
    "    elif word is \"B\":\n",
    "        grade = 3.0\n",
    "        grade_list.append(grade)\n",
    "    elif word is \"B-\":\n",
    "        grade = 2.7\n",
    "        grade_list.append(grade)\n",
    "    elif word is \"C+\":\n",
    "        grade = 2.3\n",
    "        grade_list.append(grade)\n",
    "    elif word is \"C\":\n",
    "        grade = 2.0\n",
    "        grade_list.append(grade)\n",
    "    elif word is \"C-\":\n",
    "        grade = 1.7\n",
    "        grade_list.append(grade)\n",
    "    elif word is \"D+\":\n",
    "        grade = 1.3\n",
    "        grade_list.append(grade)\n",
    "    elif word is \"D\":\n",
    "        grade = 1.0\n",
    "        grade_list.append(grade)\n",
    "    elif word is \"F\":\n",
    "        grade = 0.0\n",
    "        grade_list.append(grade)\n",
    "    print(grade_list)\n",
    "\n",
    "    for i in range(len(grade_list)):\n",
    "        sum += i\n",
    "    print(sum)\n",
    "    "
   ]
  },
  {
   "cell_type": "code",
   "execution_count": null,
   "metadata": {},
   "outputs": [],
   "source": []
  },
  {
   "cell_type": "code",
   "execution_count": null,
   "metadata": {},
   "outputs": [],
   "source": []
  }
 ],
 "metadata": {
  "kernelspec": {
   "display_name": "Python 3",
   "language": "python",
   "name": "python3"
  }
 },
 "nbformat": 4,
 "nbformat_minor": 2
}
