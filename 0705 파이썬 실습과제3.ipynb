{
 "cells": [
  {
   "cell_type": "markdown",
   "metadata": {},
   "source": [
    "1번문제 Exercise 82: Taxi Fare"
   ]
  },
  {
   "cell_type": "code",
   "execution_count": 7,
   "metadata": {},
   "outputs": [
    {
     "name": "stdout",
     "output_type": "stream",
     "text": [
      "0.14\n",
      "4.2492\n"
     ]
    }
   ],
   "source": [
    "a= float(input())\n",
    "b= (a*1.78)+4\n",
    "print(b)"
   ]
  },
  {
   "cell_type": "code",
   "execution_count": null,
   "metadata": {},
   "outputs": [],
   "source": []
  },
  {
   "cell_type": "markdown",
   "metadata": {},
   "source": [
    "2번문제 Exercise 84: Median of Three Values"
   ]
  },
  {
   "cell_type": "code",
   "execution_count": 14,
   "metadata": {},
   "outputs": [
    {
     "name": "stdout",
     "output_type": "stream",
     "text": [
      "Enter Three values: 1 2 3\n",
      "2.0\n"
     ]
    }
   ],
   "source": [
    "a,b,c = input('Enter Three values: ').split()\n",
    "a = int(a)\n",
    "b = int(b)\n",
    "c = int(c)\n",
    "d = (a+b+c)/3\n",
    "print(d)"
   ]
  },
  {
   "cell_type": "code",
   "execution_count": null,
   "metadata": {},
   "outputs": [],
   "source": []
  },
  {
   "cell_type": "markdown",
   "metadata": {},
   "source": [
    "3번문제 Exercise 85: Convert an Integer to its Ordinal Number"
   ]
  },
  {
   "cell_type": "code",
   "execution_count": 19,
   "metadata": {},
   "outputs": [
    {
     "name": "stdout",
     "output_type": "stream",
     "text": [
      "5\n",
      "['Fifth']\n",
      "{'1': 'First', '2': 'Second', '3': 'Third', '4': 'Forth', '5': 'Fifth', '6': 'Sixth', '7': 'Seventh', '8': 'Eighth', '9': 'ninth', '10': 'tenth', '11': 'eleventh', '12': 'twelfth'}\n"
     ]
    }
   ],
   "source": [
    "Ordinal = { '1':'First', '2':'Second', '3':'Third', '4':'Forth', '5':'Fifth', '6':'Sixth','7':'Seventh',\n",
    "            '8':'Eighth', '9':'ninth', '10':'tenth', '11':'eleventh', '12':'twelfth'}\n",
    "a = input()\n",
    "b=[]\n",
    "if a in Ordinal:\n",
    "    b.append(Ordinal[a])\n",
    "print(b)\n",
    "print(Ordinal)"
   ]
  },
  {
   "cell_type": "code",
   "execution_count": null,
   "metadata": {},
   "outputs": [],
   "source": []
  },
  {
   "cell_type": "markdown",
   "metadata": {},
   "source": [
    "4번문제 Exercise 88: Is it a Valid Triangle?"
   ]
  },
  {
   "cell_type": "code",
   "execution_count": 26,
   "metadata": {},
   "outputs": [
    {
     "name": "stdout",
     "output_type": "stream",
     "text": [
      "Enter Three values: 6 6 6\n",
      "Triangle is Possible\n"
     ]
    }
   ],
   "source": [
    "a,b,c = input('Enter Three values: ').split()\n",
    "a = int(a)\n",
    "b = int(b)\n",
    "c = int(c)\n",
    "d = a+b\n",
    "e = a+c\n",
    "f = b+c\n",
    "if d<=c or e<=b or f<=a:\n",
    "    print('Triangle is Impossible')\n",
    "else :\n",
    "    print('Triangle is Possible')"
   ]
  },
  {
   "cell_type": "code",
   "execution_count": null,
   "metadata": {},
   "outputs": [],
   "source": []
  },
  {
   "cell_type": "markdown",
   "metadata": {},
   "source": [
    "5번문제 Exercise 92: Is a Number Prime?"
   ]
  },
  {
   "cell_type": "code",
   "execution_count": 70,
   "metadata": {},
   "outputs": [
    {
     "name": "stdout",
     "output_type": "stream",
     "text": [
      "11\n",
      "True\n"
     ]
    }
   ],
   "source": [
    "a = int(input())\n",
    "c = []\n",
    "for b in range (2,a):\n",
    "    if a%b != 0:\n",
    "        c.append('1')\n",
    "    else:\n",
    "        c.append('0')\n",
    "if '0' in c:\n",
    "    print('False')\n",
    "else:\n",
    "    print('True')"
   ]
  },
  {
   "cell_type": "code",
   "execution_count": null,
   "metadata": {},
   "outputs": [],
   "source": []
  },
  {
   "cell_type": "code",
   "execution_count": null,
   "metadata": {},
   "outputs": [],
   "source": []
  },
  {
   "cell_type": "code",
   "execution_count": null,
   "metadata": {},
   "outputs": [],
   "source": []
  },
  {
   "cell_type": "code",
   "execution_count": null,
   "metadata": {},
   "outputs": [],
   "source": []
  },
  {
   "cell_type": "code",
   "execution_count": null,
   "metadata": {},
   "outputs": [],
   "source": []
  }
 ],
 "metadata": {
  "kernelspec": {
   "display_name": "Python 3",
   "language": "python",
   "name": "python3"
  },
  "language_info": {
   "codemirror_mode": {
    "name": "ipython",
    "version": 3
   },
   "file_extension": ".py",
   "mimetype": "text/x-python",
   "name": "python",
   "nbconvert_exporter": "python",
   "pygments_lexer": "ipython3",
   "version": "3.6.5"
  }
 },
 "nbformat": 4,
 "nbformat_minor": 2
}
