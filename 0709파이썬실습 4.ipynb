{
 "cells": [
  {
   "cell_type": "markdown",
   "metadata": {},
   "source": [
    "1번 문제  \n",
    "Exercise 129: Two Dice Simulation"
   ]
  },
  {
   "cell_type": "code",
   "execution_count": null,
   "metadata": {},
   "outputs": [],
   "source": [
    "import random as rd"
   ]
  },
  {
   "cell_type": "code",
   "execution_count": 22,
   "metadata": {},
   "outputs": [
    {
     "name": "stdout",
     "output_type": "stream",
     "text": [
      "2 2.3 2.78\n",
      "3 5.0 5.56\n",
      "4 7.4 8.33\n",
      "5 10.6 11.11\n",
      "6 14.8 13.89\n",
      "7 14.6 16.67\n",
      "8 15.0 13.89\n",
      "9 13.0 11.11\n",
      "10 8.9 8.33\n",
      "11 5.5 5.56\n",
      "12 2.9 2.78\n"
     ]
    }
   ],
   "source": [
    "a = []\n",
    "b = [2.78,5.56,8.33,11.11,13.89,16.67,13.89,11.11,8.33,5.56,2.78]\n",
    "for i in range (1,1001):\n",
    "    r1 = rd.randrange(1,7)\n",
    "    r2 = rd.randrange(1,7)\n",
    "    r = r1 + r2\n",
    "    a.append(r)\n",
    "\n",
    "w_count = {}\n",
    "for x in a:\n",
    "    try: w_count[x] += 1\n",
    "    except: w_count[x] = 1\n",
    "        \n",
    "sorted_list = sorted(w_count) \n",
    "for y in sorted(w_count):\n",
    "    print(y,w_count[y]/10, b[y-2])\n",
    "\n",
    "    \n"
   ]
  },
  {
   "cell_type": "code",
   "execution_count": null,
   "metadata": {},
   "outputs": [],
   "source": []
  },
  {
   "cell_type": "markdown",
   "metadata": {},
   "source": [
    "2번문제\n",
    "Exercise 130: Text Messaging"
   ]
  },
  {
   "cell_type": "code",
   "execution_count": 26,
   "metadata": {},
   "outputs": [],
   "source": [
    "Key = { '.':'1', ',':'11', '?':'111', '!':'1111', ':':'11111',\n",
    "        'A':'2', 'B':'22', 'C':'222',\n",
    "        'D':'3', 'E':'33', 'F':'333',\n",
    "        'G':'4', 'H':'44', 'I':'444',\n",
    "        'J':'5', 'K':'55', 'L':'555',\n",
    "        'M':'6', 'N':'66', 'O':'666',\n",
    "        'P':'7', 'Q':'77', 'R':'777', 'S':'7777',\n",
    "        'T':'8', 'U':'88', 'V':'888',\n",
    "        'W':'9', 'X':'99', 'Y':'999', 'Z':'9999',\n",
    "        ' ':'space'\n",
    "      }"
   ]
  },
  {
   "cell_type": "code",
   "execution_count": 29,
   "metadata": {},
   "outputs": [
    {
     "name": "stdout",
     "output_type": "stream",
     "text": [
      "HELLO,WORLD!\n",
      "443355555566611966677755531111\n"
     ]
    }
   ],
   "source": [
    "a= []\n",
    "b= input()\n",
    "for x in b:\n",
    "    if x in Key:\n",
    "        a.append(Key[x])\n",
    "print(''.join(a))"
   ]
  },
  {
   "cell_type": "code",
   "execution_count": null,
   "metadata": {},
   "outputs": [],
   "source": []
  },
  {
   "cell_type": "markdown",
   "metadata": {},
   "source": [
    "3번문제 \n",
    "Exercise 131: Morse Code"
   ]
  },
  {
   "cell_type": "code",
   "execution_count": 30,
   "metadata": {},
   "outputs": [],
   "source": [
    "Mos = { 'A':'.-', 'B':'-...', 'C':'-.-.', 'D':'-..', 'E':'.', 'F':'..-.',\n",
    "        'G':'--.', 'H':'....', 'I':'..', 'J':'.---', 'K':'-.-', 'L':'.-..',\n",
    "        'M':'--', 'N':'-.', 'O':'---', 'P':'.--.', 'Q':'--.-', 'R':'.-.', 'S':'...',\n",
    "        'T':'-', 'U':'..-', 'V':'...-', 'W':'.--', 'X':'-..-', 'Y':'-.--', 'Z':'--..',\n",
    "        '0':'-----', '1':'.---', '2':'..---', '3':'...--', '4':'....-', '5':'.....',\n",
    "        '6':'-....', '7':'--...', '8':'---..', '9':'----.'\n",
    "      }"
   ]
  },
  {
   "cell_type": "code",
   "execution_count": 31,
   "metadata": {},
   "outputs": [
    {
     "name": "stdout",
     "output_type": "stream",
     "text": [
      "HELLO, WORLD!\n",
      "......-...-..---.-----.-..-..-..\n"
     ]
    }
   ],
   "source": [
    "c= []\n",
    "d= input()\n",
    "for y in d:\n",
    "    if y in Mos:\n",
    "        c.append(Mos[y])\n",
    "print(''.join(c))"
   ]
  },
  {
   "cell_type": "code",
   "execution_count": null,
   "metadata": {},
   "outputs": [],
   "source": []
  },
  {
   "cell_type": "markdown",
   "metadata": {},
   "source": [
    "4번문제 \n",
    "Exercise 132: Postal Codes"
   ]
  },
  {
   "cell_type": "code",
   "execution_count": 32,
   "metadata": {},
   "outputs": [],
   "source": [
    "Code = { 'A':'Newfondland', 'B':'Nova Scotia', 'C':'Prince Edward Island',\n",
    "         'E':'New Brunswick', 'G':'Quebec', 'H':'Quebec', 'J':'Quebec',\n",
    "         'K':'Ontario', 'L':'Ontario', 'M':'Ontario', 'N':'Ontario', 'P':'Ontario',\n",
    "         'R':'Manitoba', 'S':'Saskatchewan', 'T':'Alberta', 'V':'British Columbia',\n",
    "         'X':'Nunavut or Northwest Territories', 'Y': 'Yukon', \n",
    "    \n",
    "}"
   ]
  },
  {
   "cell_type": "code",
   "execution_count": 48,
   "metadata": {},
   "outputs": [
    {
     "name": "stdout",
     "output_type": "stream",
     "text": [
      "T2N\n",
      "Urban in ['Alberta']\n"
     ]
    }
   ],
   "source": [
    "c= []\n",
    "f= []\n",
    "d= input()\n",
    "if d[0] in Code:\n",
    "    c.append(Code[d[0]])\n",
    "\n",
    "if d[1] == 1:\n",
    "    print('Rural in '+str(c))\n",
    "else:\n",
    "    print('Urban in '+str(c))\n",
    "    "
   ]
  }
 ],
 "metadata": {
  "kernelspec": {
   "display_name": "Python 3",
   "language": "python",
   "name": "python3"
  },
  "language_info": {
   "codemirror_mode": {
    "name": "ipython",
    "version": 3
   },
   "file_extension": ".py",
   "mimetype": "text/x-python",
   "name": "python",
   "nbconvert_exporter": "python",
   "pygments_lexer": "ipython3",
   "version": "3.6.5"
  }
 },
 "nbformat": 4,
 "nbformat_minor": 2
}
